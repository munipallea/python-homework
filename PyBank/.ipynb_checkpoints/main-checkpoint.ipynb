{
 "cells": [
  {
   "cell_type": "code",
   "execution_count": 1,
   "metadata": {},
   "outputs": [],
   "source": [
    "# Import pandas and define a dataframe. Create a new column called average with zero values to store change in Profit/Losses\n",
    "import pandas as pd\n",
    "import csv\n",
    "banks_df = pd.read_csv(\"budget_data.csv\")\n",
    "banks_df[\"Average\"]=0\n",
    "#banks_df.head()"
   ]
  },
  {
   "cell_type": "code",
   "execution_count": 2,
   "metadata": {},
   "outputs": [],
   "source": [
    "# Use .iloc method in pandas to calculate change in PnL and other metrics\n",
    "month=0\n",
    "PnL=0\n",
    "PnL_Change=0\n",
    "for records in range(0,len(banks_df)):\n",
    "    PnL=banks_df.iloc[month,1]+PnL\n",
    "    if month > 0:\n",
    "        banks_df.iloc[month,2]=banks_df.iloc[month,1]-banks_df.iloc[month-1,1]\n",
    "        PnL_Change=PnL_Change+banks_df.iloc[month,2]\n",
    "    month=month+1\n",
    "average=PnL_Change/(month-1)\n",
    "\n",
    "# maximum month using iloc. Calculate index associated with max PnL change and then extract month\n",
    "maxindex = banks_df['Average'].values.argmax()\n",
    "maxmonth=banks_df.iloc[maxindex,0]\n",
    "maxdollars = banks_df['Average'].max()\n",
    "\n",
    "# minimum month\n",
    "minindex = banks_df['Average'].values.argmin()\n",
    "minmonth=banks_df.iloc[minindex,0]\n",
    "mindollars=banks_df['Average'].min()"
   ]
  },
  {
   "cell_type": "code",
   "execution_count": 3,
   "metadata": {},
   "outputs": [
    {
     "name": "stdout",
     "output_type": "stream",
     "text": [
      "Total Months 86\n",
      "Total $:38382578\n",
      "Average  Change $: -2315.12\n",
      "Greatest Increase in Profits:Feb-2012 $(1926159)\n",
      "Greatest Decrease in Profits: Sep-2013 $(-2196167)\n"
     ]
    }
   ],
   "source": [
    "# Print Output\n",
    "print(f'Total Months {month}')\n",
    "print(f'Total $:{PnL}')\n",
    "print(f'Average  Change $: {average:.2f}')\n",
    "print(f'Greatest Increase in Profits:{maxmonth} $({maxdollars})')\n",
    "print(f'Greatest Decrease in Profits: {minmonth} $({mindollars})')"
   ]
  },
  {
   "cell_type": "code",
   "execution_count": 9,
   "metadata": {},
   "outputs": [],
   "source": [
    "# Save Output To File\n",
    "from pathlib import Path\n",
    "output_path = Path(\"output.txt\")\n",
    "with open(output_path, 'a') as file:\n",
    "    file.truncate(0)\n",
    "    print(f'Total Months {month}', file=file)\n",
    "    print(f'Total $:{PnL}', file=file)\n",
    "    print(f'Average  Change $: {average:.2f}', file=file)\n",
    "    print(f'Greatest Increase in Profits:{maxmonth} $({maxdollars})', file=file)\n",
    "    print(f'Greatest Decrease in Profits: {minmonth} $({mindollars})',file=file)"
   ]
  },
  {
   "cell_type": "code",
   "execution_count": null,
   "metadata": {},
   "outputs": [],
   "source": []
  }
 ],
 "metadata": {
  "kernelspec": {
   "display_name": "Python 3",
   "language": "python",
   "name": "python3"
  },
  "language_info": {
   "codemirror_mode": {
    "name": "ipython",
    "version": 3
   },
   "file_extension": ".py",
   "mimetype": "text/x-python",
   "name": "python",
   "nbconvert_exporter": "python",
   "pygments_lexer": "ipython3",
   "version": "3.7.4"
  }
 },
 "nbformat": 4,
 "nbformat_minor": 2
}
