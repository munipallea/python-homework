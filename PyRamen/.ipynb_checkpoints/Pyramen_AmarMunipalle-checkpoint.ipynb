{
 "cells": [
  {
   "cell_type": "code",
   "execution_count": 75,
   "metadata": {},
   "outputs": [],
   "source": [
    "from pathlib import Path\n",
    "import csv\n",
    "csvmenudata=Path(\"menu_data.csv\")\n",
    "csvsalesdata=Path(\"sales_data.csv\") #creation of csvs\n",
    "menudata=[]  #Emply list for menu data\n",
    "salesdata=[] #Emply list for sales data"
   ]
  },
  {
   "cell_type": "code",
   "execution_count": 76,
   "metadata": {},
   "outputs": [
    {
     "name": "stdout",
     "output_type": "stream",
     "text": [
      "<class '_io.TextIOWrapper'>\n",
      "<class '_csv.reader'>\n",
      "['item', 'category', 'description', 'price', 'cost']\n"
     ]
    }
   ],
   "source": [
    "# Creating menudata list using csvreader function\n",
    "line_num=0\n",
    "with open(csvmenudata, 'r') as csvfile1:\n",
    "    # Print the datatype of the file object\n",
    "    print(type(csvfile1))\n",
    "    # Pass in the csv file to the csv.reader() function\n",
    "    # (with ',' as the delmiter/separator) and return the csvreader object\n",
    "    csvreader1 = csv.reader(csvfile1, delimiter=',')\n",
    "    # Print the datatype and header of the csvreader1 file associated with menudata\n",
    "    print(type(csvreader1))\n",
    "    header = next(csvreader1)\n",
    "    print(header)\n",
    "    for row in csvreader1:\n",
    "        menudata.append(row)"
   ]
  },
  {
   "cell_type": "code",
   "execution_count": 77,
   "metadata": {},
   "outputs": [
    {
     "name": "stdout",
     "output_type": "stream",
     "text": [
      "<class '_io.TextIOWrapper'>\n",
      "<class '_csv.reader'>\n",
      "['Line_Item_ID', 'Date', 'Credit_Card_Number', 'Quantity', 'Menu_Item']\n",
      "74124\n"
     ]
    }
   ],
   "source": [
    "# Creating salesdata list similr to menudata logic and using csvreader and header function\n",
    "line_num=0\n",
    "with open(csvsalesdata, 'r') as csvfile2:\n",
    "    # Print the datatype of the file object\n",
    "    print(type(csvfile2))\n",
    "    # Pass in the csv file to the csv.reader() function\n",
    "    # (with ',' as the delmiter/separator) and return the csvreader object\n",
    "    csvreader2 = csv.reader(csvfile2, delimiter=',')\n",
    "    # Print the datatype and header of the csvreader1 file associated with menudata\n",
    "    print(type(csvreader2))\n",
    "    header = next(csvreader2)\n",
    "    print(header)\n",
    "    for row in csvreader2:\n",
    "        salesdata.append(row)\n",
    "print(len(salesdata))\n",
    "count=0"
   ]
  },
  {
   "cell_type": "code",
   "execution_count": 78,
   "metadata": {},
   "outputs": [
    {
     "name": "stdout",
     "output_type": "stream",
     "text": [
      "32 32 32\n"
     ]
    }
   ],
   "source": [
    "# looping through menudata list as requested in question (which was unclear to me)\n",
    "item=[]\n",
    "price=[]\n",
    "cost=[]\n",
    "for row in menudata:\n",
    "    item.append(row[0])\n",
    "    price.append(row[3])\n",
    "    cost.append(row[4])\n",
    "print(len(item), len(price), len(cost))"
   ]
  },
  {
   "cell_type": "code",
   "execution_count": 79,
   "metadata": {},
   "outputs": [
    {
     "name": "stdout",
     "output_type": "stream",
     "text": [
      "74124 74124\n"
     ]
    }
   ],
   "source": [
    "# looping through salesdata list as requested in question (which was unclear to me)\n",
    "quantity=[]\n",
    "menu_item=[]\n",
    "for row in salesdata:\n",
    "    quantity.append(row[3])\n",
    "    menu_item.append(row[4])\n",
    "print(len(quantity), len(menu_item))"
   ]
  },
  {
   "cell_type": "code",
   "execution_count": 80,
   "metadata": {},
   "outputs": [
    {
     "name": "stdout",
     "output_type": "stream",
     "text": [
      "{'shio ramen', 'burnt garlic tonkotsu ramen', 'soft-shell miso crab ramen', 'tori paitan ramen', 'miso crab ramen', 'truffle butter ramen', 'nagomi shoyu', 'vegetarian spicy miso', 'spicy miso ramen', 'vegetarian curry + king trumpet mushroom ramen', 'tonkotsu ramen'}\n"
     ]
    }
   ],
   "source": [
    "print(set(menu_item))\n",
    "# set function identifies unique elements of the menu_item list. This set is merged with the raw report dictionary using the dict.fromkeys() method to create a nested dictionary"
   ]
  },
  {
   "cell_type": "code",
   "execution_count": 83,
   "metadata": {},
   "outputs": [
    {
     "name": "stdout",
     "output_type": "stream",
     "text": [
      "{'shio ramen': {'01-count': 0, '02-revenue': 0, '03-cogs': 0, '04-profit': 0}, 'burnt garlic tonkotsu ramen': {'01-count': 0, '02-revenue': 0, '03-cogs': 0, '04-profit': 0}, 'soft-shell miso crab ramen': {'01-count': 0, '02-revenue': 0, '03-cogs': 0, '04-profit': 0}, 'tori paitan ramen': {'01-count': 0, '02-revenue': 0, '03-cogs': 0, '04-profit': 0}, 'miso crab ramen': {'01-count': 0, '02-revenue': 0, '03-cogs': 0, '04-profit': 0}, 'truffle butter ramen': {'01-count': 0, '02-revenue': 0, '03-cogs': 0, '04-profit': 0}, 'nagomi shoyu': {'01-count': 0, '02-revenue': 0, '03-cogs': 0, '04-profit': 0}, 'vegetarian spicy miso': {'01-count': 0, '02-revenue': 0, '03-cogs': 0, '04-profit': 0}, 'spicy miso ramen': {'01-count': 0, '02-revenue': 0, '03-cogs': 0, '04-profit': 0}, 'vegetarian curry + king trumpet mushroom ramen': {'01-count': 0, '02-revenue': 0, '03-cogs': 0, '04-profit': 0}, 'tonkotsu ramen': {'01-count': 0, '02-revenue': 0, '03-cogs': 0, '04-profit': 0}}\n"
     ]
    }
   ],
   "source": [
    "# Define dictionary Report as a nested dictionary. Description in previous comment\n",
    "temp_dict={}\n",
    "report = {\n",
    "\"01-count\": 0,\n",
    "\"02-revenue\": 0,\n",
    "\"03-cogs\": 0,\n",
    "\"04-profit\": 0,\n",
    "}\n",
    "report=dict.fromkeys(set(menu_item), report)\n",
    "print(report)\n",
    "# output printed to verify that a nested dictionary in the requested format has been created"
   ]
  },
  {
   "cell_type": "code",
   "execution_count": 84,
   "metadata": {},
   "outputs": [
    {
     "name": "stdout",
     "output_type": "stream",
     "text": [
      "{'shio ramen': {'01-count': 9180, '02-revenue': 0, '03-cogs': 0, '04-profit': 0}, 'burnt garlic tonkotsu ramen': {'01-count': 9070, '02-revenue': 0, '03-cogs': 0, '04-profit': 0}, 'soft-shell miso crab ramen': {'01-count': 9130, '02-revenue': 0, '03-cogs': 0, '04-profit': 0}, 'tori paitan ramen': {'01-count': 9156, '02-revenue': 0, '03-cogs': 0, '04-profit': 0}, 'miso crab ramen': {'01-count': 8890, '02-revenue': 0, '03-cogs': 0, '04-profit': 0}, 'truffle butter ramen': {'01-count': 8982, '02-revenue': 0, '03-cogs': 0, '04-profit': 0}, 'nagomi shoyu': {'01-count': 9132, '02-revenue': 0, '03-cogs': 0, '04-profit': 0}, 'vegetarian spicy miso': {'01-count': 9216, '02-revenue': 0, '03-cogs': 0, '04-profit': 0}, 'spicy miso ramen': {'01-count': 9238, '02-revenue': 0, '03-cogs': 0, '04-profit': 0}, 'vegetarian curry + king trumpet mushroom ramen': {'01-count': 8824, '02-revenue': 0, '03-cogs': 0, '04-profit': 0}, 'tonkotsu ramen': {'01-count': 9288, '02-revenue': 0, '03-cogs': 0, '04-profit': 0}}\n"
     ]
    }
   ],
   "source": [
    "# Update count from sales\n",
    "emptydictionary={}\n",
    "flattenedreport={}\n",
    "from flatten_dict import flatten \n",
    "from flatten_dict import unflatten \n",
    "for keys in report:\n",
    "    quantity_by_item=0\n",
    "    for salesrows in salesdata:\n",
    "        if keys==salesrows[4]:\n",
    "            quantity_by_item=quantity_by_item+int(salesrows[3])\n",
    "    emptydictionary[keys]=quantity_by_item\n",
    "flattenedreport=flatten(report)\n",
    "for keyvalue in flattenedreport:\n",
    "    if \"01-count\" in keyvalue:\n",
    "        for keys in emptydictionary:\n",
    "            if keys in keyvalue:\n",
    "                flattenedreport[keyvalue]=emptydictionary[keys]\n",
    "report=unflatten(flattenedreport)\n",
    "print(report)\n",
    "# To update the aggregate totals, the flatten method is used which flattens the dictionary and breaks the nesting. Once the manipulations are completed the dictonary is unflattened to restore original structure"
   ]
  },
  {
   "cell_type": "code",
   "execution_count": 86,
   "metadata": {},
   "outputs": [
    {
     "name": "stdout",
     "output_type": "stream",
     "text": [
      "{'shio ramen': {'01-count': 9180, '02-revenue': 100980, '03-cogs': 45900, '04-profit': 55080}, 'burnt garlic tonkotsu ramen': {'01-count': 9070, '02-revenue': 126980, '03-cogs': 54420, '04-profit': 72560}, 'soft-shell miso crab ramen': {'01-count': 9130, '02-revenue': 127820, '03-cogs': 63910, '04-profit': 63910}, 'tori paitan ramen': {'01-count': 9156, '02-revenue': 119028, '03-cogs': 54936, '04-profit': 64092}, 'miso crab ramen': {'01-count': 8890, '02-revenue': 106680, '03-cogs': 53340, '04-profit': 53340}, 'truffle butter ramen': {'01-count': 8982, '02-revenue': 125748, '03-cogs': 62874, '04-profit': 62874}, 'nagomi shoyu': {'01-count': 9132, '02-revenue': 100452, '03-cogs': 45660, '04-profit': 54792}, 'vegetarian spicy miso': {'01-count': 9216, '02-revenue': 110592, '03-cogs': 46080, '04-profit': 64512}, 'spicy miso ramen': {'01-count': 9238, '02-revenue': 110856, '03-cogs': 46190, '04-profit': 64666}, 'vegetarian curry + king trumpet mushroom ramen': {'01-count': 8824, '02-revenue': 114712, '03-cogs': 61768, '04-profit': 52944}, 'tonkotsu ramen': {'01-count': 9288, '02-revenue': 120744, '03-cogs': 55728, '04-profit': 65016}}\n"
     ]
    }
   ],
   "source": [
    "# Update count from menu. Final out\n",
    "for keys in report:\n",
    "    for menurows in menudata:\n",
    "        if keys==menurows[0]:\n",
    "            price=int(menurows[3])\n",
    "            cost=int(menurows[4])\n",
    "            report[keys][\"02-revenue\"]=(int(report[keys][\"01-count\"])*price)\n",
    "            report[keys][\"03-cogs\"]=(int(report[keys][\"01-count\"])*cost)\n",
    "            report[keys][\"04-profit\"]=int(report[keys][\"02-revenue\"])-int(report[keys][\"03-cogs\"])\n",
    "print(report)"
   ]
  },
  {
   "cell_type": "code",
   "execution_count": 87,
   "metadata": {},
   "outputs": [],
   "source": [
    "with open('PyramenAmarM.txt', 'w') as f:\n",
    "    f.truncate(0)\n",
    "    print(report, file=f)"
   ]
  },
  {
   "cell_type": "code",
   "execution_count": null,
   "metadata": {},
   "outputs": [],
   "source": []
  }
 ],
 "metadata": {
  "kernelspec": {
   "display_name": "Python 3",
   "language": "python",
   "name": "python3"
  },
  "language_info": {
   "codemirror_mode": {
    "name": "ipython",
    "version": 3
   },
   "file_extension": ".py",
   "mimetype": "text/x-python",
   "name": "python",
   "nbconvert_exporter": "python",
   "pygments_lexer": "ipython3",
   "version": "3.7.4"
  }
 },
 "nbformat": 4,
 "nbformat_minor": 2
}
